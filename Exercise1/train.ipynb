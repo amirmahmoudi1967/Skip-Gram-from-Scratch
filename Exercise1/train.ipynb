{
 "cells": [
  {
   "cell_type": "markdown",
   "id": "6a3604a2",
   "metadata": {},
   "source": [
    "# Exercise 1\n",
    "**Coded by Chloé Daems, Anne-Claire Laisney and Amir Mahmoudi**"
   ]
  },
  {
   "cell_type": "markdown",
   "id": "715e721b-42dd-402b-8747-c872c26e53d1",
   "metadata": {},
   "source": [
    "The goal of the first exercise is to implement skip-gram with negative-sampling from scratch. The Skip-gram model learns to predict the probability of context words given a target word."
   ]
  },
  {
   "cell_type": "code",
   "execution_count": 1,
   "id": "50a22ede",
   "metadata": {},
   "outputs": [],
   "source": [
    "#Library imports\n",
    "import matplotlib.pyplot as plt\n",
    "from scipy.io import loadmat\n",
    "import scipy.sparse.linalg as sp\n",
    "import numpy as np\n",
    "import pandas as pd"
   ]
  },
  {
   "cell_type": "markdown",
   "id": "40250f5d-de9e-4ccf-9d67-a393cfa6eb4d",
   "metadata": {},
   "source": [
    "Import main python file skipGram.py"
   ]
  },
  {
   "cell_type": "code",
   "execution_count": 2,
   "id": "f40520e3-ba54-4eb9-8e96-cdf9e3234f06",
   "metadata": {},
   "outputs": [],
   "source": [
    "from skipGram import *"
   ]
  },
  {
   "cell_type": "code",
   "execution_count": 3,
   "id": "d4533997-d1d4-4e1e-9333-bae42cdc0aa9",
   "metadata": {},
   "outputs": [],
   "source": [
    "train_df = pd.read_csv('train.csv', sep='\\t')\n",
    "train_df = train_df[1:1000]\n",
    "epochs = 10\n",
    "learningRate = 0.1"
   ]
  },
  {
   "cell_type": "code",
   "execution_count": 4,
   "id": "a62ac092-49c6-4ded-93e0-c6010522813f",
   "metadata": {},
   "outputs": [],
   "source": [
    "sentences = text2sentences('train.csv')"
   ]
  },
  {
   "cell_type": "code",
   "execution_count": 6,
   "id": "d28ce596-b055-44c3-9ebe-5c4a7e33a84d",
   "metadata": {},
   "outputs": [
    {
     "name": "stdout",
     "output_type": "stream",
     "text": [
      "['our', 'deeds', 'are', 'the', 'reason', 'of', 'this', 'earthquake', 'may', 'allah', 'forgive', 'all']\n",
      "hello\n",
      " > training 0 of 12\n"
     ]
    },
    {
     "ename": "ZeroDivisionError",
     "evalue": "division by zero",
     "output_type": "error",
     "traceback": [
      "\u001b[0;31m---------------------------------------------------------------------------\u001b[0m",
      "\u001b[0;31mZeroDivisionError\u001b[0m                         Traceback (most recent call last)",
      "\u001b[0;32m/var/folders/46/jj51v6sd6bv6lxs8vsgr8lv00000gn/T/ipykernel_90271/963148957.py\u001b[0m in \u001b[0;36m<module>\u001b[0;34m\u001b[0m\n\u001b[1;32m      7\u001b[0m         \u001b[0mprint\u001b[0m\u001b[0;34m(\u001b[0m\u001b[0msentence\u001b[0m\u001b[0;34m)\u001b[0m\u001b[0;34m\u001b[0m\u001b[0;34m\u001b[0m\u001b[0m\n\u001b[1;32m      8\u001b[0m         \u001b[0msg\u001b[0m \u001b[0;34m=\u001b[0m \u001b[0mSkipGram\u001b[0m\u001b[0;34m(\u001b[0m\u001b[0msentences\u001b[0m\u001b[0;34m=\u001b[0m\u001b[0msentence\u001b[0m\u001b[0;34m,\u001b[0m \u001b[0mminCount\u001b[0m\u001b[0;34m=\u001b[0m\u001b[0mminCount\u001b[0m\u001b[0;34m,\u001b[0m \u001b[0mnEmbed\u001b[0m\u001b[0;34m=\u001b[0m\u001b[0mnEmbed\u001b[0m\u001b[0;34m,\u001b[0m \u001b[0mwinSize\u001b[0m\u001b[0;34m=\u001b[0m\u001b[0mwinSize\u001b[0m\u001b[0;34m,\u001b[0m \u001b[0mnegativeRate\u001b[0m\u001b[0;34m=\u001b[0m\u001b[0;36m5\u001b[0m\u001b[0;34m,\u001b[0m \u001b[0mepochs\u001b[0m \u001b[0;34m=\u001b[0m \u001b[0mepochs\u001b[0m\u001b[0;34m,\u001b[0m \u001b[0mlearningRate\u001b[0m \u001b[0;34m=\u001b[0m \u001b[0mlearningRate\u001b[0m\u001b[0;34m)\u001b[0m\u001b[0;34m\u001b[0m\u001b[0;34m\u001b[0m\u001b[0m\n\u001b[0;32m----> 9\u001b[0;31m         \u001b[0msg\u001b[0m\u001b[0;34m.\u001b[0m\u001b[0mtrain\u001b[0m\u001b[0;34m(\u001b[0m\u001b[0;34m)\u001b[0m\u001b[0;34m\u001b[0m\u001b[0;34m\u001b[0m\u001b[0m\n\u001b[0m",
      "\u001b[0;32m~/Desktop/COURS/CS/SDI/SM10/NLP/Lab Sessions/Exercise1/code/skipGram.py\u001b[0m in \u001b[0;36mtrain\u001b[0;34m(self)\u001b[0m\n\u001b[1;32m    184\u001b[0m                     \u001b[0mprint\u001b[0m \u001b[0;34m(\u001b[0m\u001b[0;34m\" > training %d of %d\"\u001b[0m \u001b[0;34m%\u001b[0m \u001b[0;34m(\u001b[0m\u001b[0mcounter\u001b[0m\u001b[0;34m,\u001b[0m \u001b[0mlen\u001b[0m\u001b[0;34m(\u001b[0m\u001b[0mself\u001b[0m\u001b[0;34m.\u001b[0m\u001b[0mtrainset\u001b[0m\u001b[0;34m)\u001b[0m\u001b[0;34m)\u001b[0m\u001b[0;34m)\u001b[0m\u001b[0;34m\u001b[0m\u001b[0;34m\u001b[0m\u001b[0m\n\u001b[1;32m    185\u001b[0m                     \u001b[0mself\u001b[0m\u001b[0;34m.\u001b[0m\u001b[0mloss\u001b[0m\u001b[0;34m.\u001b[0m\u001b[0mappend\u001b[0m\u001b[0;34m(\u001b[0m\u001b[0mself\u001b[0m\u001b[0;34m.\u001b[0m\u001b[0maccLoss\u001b[0m \u001b[0;34m/\u001b[0m \u001b[0mself\u001b[0m\u001b[0;34m.\u001b[0m\u001b[0mtrainWords\u001b[0m\u001b[0;34m)\u001b[0m\u001b[0;34m\u001b[0m\u001b[0;34m\u001b[0m\u001b[0m\n\u001b[0;32m--> 186\u001b[0;31m                     \u001b[0mself\u001b[0m\u001b[0;34m.\u001b[0m\u001b[0mtrainWords\u001b[0m \u001b[0;34m=\u001b[0m \u001b[0;36m0\u001b[0m\u001b[0;34m\u001b[0m\u001b[0;34m\u001b[0m\u001b[0m\n\u001b[0m\u001b[1;32m    187\u001b[0m                     \u001b[0mself\u001b[0m\u001b[0;34m.\u001b[0m\u001b[0maccLoss\u001b[0m \u001b[0;34m=\u001b[0m \u001b[0;36m0.\u001b[0m\u001b[0;34m\u001b[0m\u001b[0;34m\u001b[0m\u001b[0m\n\u001b[1;32m    188\u001b[0m             \u001b[0mprint\u001b[0m\u001b[0;34m(\u001b[0m\u001b[0;34m' > training Epoch {}: Loss = {}'\u001b[0m\u001b[0;34m.\u001b[0m\u001b[0mformat\u001b[0m\u001b[0;34m(\u001b[0m\u001b[0mepoch\u001b[0m\u001b[0;34m+\u001b[0m\u001b[0;36m1\u001b[0m\u001b[0;34m,\u001b[0m\u001b[0mself\u001b[0m\u001b[0;34m.\u001b[0m\u001b[0maccLoss\u001b[0m\u001b[0;34m)\u001b[0m\u001b[0;34m)\u001b[0m\u001b[0;34m\u001b[0m\u001b[0;34m\u001b[0m\u001b[0m\n",
      "\u001b[0;31mZeroDivisionError\u001b[0m: division by zero"
     ]
    }
   ],
   "source": [
    "nEmbed = 100\n",
    "winSize = 5\n",
    "minCount = 5\n",
    "\n",
    "for i, sentence in enumerate(sentences):\n",
    "    if i != 0:\n",
    "        print(sentence)\n",
    "        sg = SkipGram(sentences=sentence, minCount=minCount, nEmbed=nEmbed, winSize=winSize, negativeRate=5, epochs = epochs, learningRate = learningRate)\n",
    "        sg.train()"
   ]
  },
  {
   "cell_type": "code",
   "execution_count": null,
   "id": "1bd39b43-052b-4512-9398-7866f916d5b6",
   "metadata": {},
   "outputs": [],
   "source": []
  }
 ],
 "metadata": {
  "kernelspec": {
   "display_name": "Python 3 (ipykernel)",
   "language": "python",
   "name": "python3"
  },
  "language_info": {
   "codemirror_mode": {
    "name": "ipython",
    "version": 3
   },
   "file_extension": ".py",
   "mimetype": "text/x-python",
   "name": "python",
   "nbconvert_exporter": "python",
   "pygments_lexer": "ipython3",
   "version": "3.9.7"
  }
 },
 "nbformat": 4,
 "nbformat_minor": 5
}
