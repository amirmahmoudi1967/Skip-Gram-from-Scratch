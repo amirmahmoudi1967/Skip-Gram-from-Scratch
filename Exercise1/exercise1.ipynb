{
 "cells": [
  {
   "cell_type": "markdown",
   "id": "6a3604a2",
   "metadata": {},
   "source": [
    "# Exercise 1\n",
    "**Coded by Chloé Daems, Anne-Claire Laisney and Amir Mahmoudi**"
   ]
  },
  {
   "cell_type": "markdown",
   "id": "715e721b-42dd-402b-8747-c872c26e53d1",
   "metadata": {},
   "source": [
    "The goal of the first exercise is to implement skip-gram with negative-sampling from scratch. The Skip-gram model learns to predict the probability of context words given a target word."
   ]
  },
  {
   "cell_type": "code",
   "execution_count": 1,
   "id": "50a22ede",
   "metadata": {},
   "outputs": [],
   "source": [
    "#Library imports\n",
    "import matplotlib.pyplot as plt\n",
    "from scipy.io import loadmat\n",
    "import scipy.sparse.linalg as sp\n",
    "import numpy as np\n",
    "import pandas as pd"
   ]
  },
  {
   "cell_type": "markdown",
   "id": "40250f5d-de9e-4ccf-9d67-a393cfa6eb4d",
   "metadata": {},
   "source": [
    "Import main python file skipGram.py"
   ]
  },
  {
   "cell_type": "code",
   "execution_count": 2,
   "id": "f40520e3-ba54-4eb9-8e96-cdf9e3234f06",
   "metadata": {},
   "outputs": [],
   "source": [
    "from skipGram import *"
   ]
  },
  {
   "cell_type": "code",
   "execution_count": 3,
   "id": "d4533997-d1d4-4e1e-9333-bae42cdc0aa9",
   "metadata": {},
   "outputs": [],
   "source": [
    "train_df = pd.read_csv('train.csv', sep='\\t')\n",
    "train_df = train_df[1:5000]\n",
    "epochs = 5\n",
    "learningRate = 1e-1"
   ]
  },
  {
   "cell_type": "code",
   "execution_count": 4,
   "id": "a62ac092-49c6-4ded-93e0-c6010522813f",
   "metadata": {},
   "outputs": [],
   "source": [
    "sentences = text2sentences('train.csv')\n",
    "sentences = sentences[1:1000]"
   ]
  },
  {
   "cell_type": "code",
   "execution_count": 5,
   "id": "d28ce596-b055-44c3-9ebe-5c4a7e33a84d",
   "metadata": {},
   "outputs": [],
   "source": [
    "nEmbed = 100\n",
    "winSize = 5\n",
    "minCount = 1\n",
    "negativeRate=2\n",
    "wEmbedRate=0.1\n",
    "cEmbedRate=0.1"
   ]
  },
  {
   "cell_type": "code",
   "execution_count": 6,
   "id": "1bd39b43-052b-4512-9398-7866f916d5b6",
   "metadata": {},
   "outputs": [
    {
     "name": "stdout",
     "output_type": "stream",
     "text": [
      "init done\n",
      " > training Epoch 1: Loss = 4305.441229817471\n",
      " > training Epoch 2: Loss = 4163.517329411667\n",
      " > training Epoch 3: Loss = 4131.4751690453595\n",
      " > training Epoch 4: Loss = 4177.883066824035\n",
      " > training Epoch 5: Loss = 4302.205820761693\n"
     ]
    }
   ],
   "source": [
    "sg = SkipGram(sentences=sentences, minCount=minCount,wEmbedRate=wEmbedRate,cEmbedRate=cEmbedRate, nEmbed=nEmbed, winSize=winSize, negativeRate=negativeRate, epochs = epochs, learningRate = learningRate)\n",
    "sg.train()"
   ]
  },
  {
   "cell_type": "code",
   "execution_count": 9,
   "id": "7b823522",
   "metadata": {},
   "outputs": [
    {
     "name": "stdout",
     "output_type": "stream",
     "text": [
      "125.4181403712981\n",
      "12.897724948065799\n",
      "9.724097698335354\n"
     ]
    },
    {
     "data": {
      "text/plain": [
       "0.9999952390690338"
      ]
     },
     "execution_count": 9,
     "metadata": {},
     "output_type": "execute_result"
    }
   ],
   "source": [
    "sg.similarity(\"our\",\"the\")"
   ]
  },
  {
   "cell_type": "code",
   "execution_count": 10,
   "id": "6917dcd2",
   "metadata": {},
   "outputs": [
    {
     "data": {
      "text/plain": [
       "array([[-1.2828864 , -1.29321396, -1.29198279, ..., -1.28921722,\n",
       "        -1.29074293, -1.29147812],\n",
       "       [-0.5763955 , -0.61870369, -0.5918143 , ..., -0.62269457,\n",
       "        -0.60036258, -0.63050808],\n",
       "       [-1.11273845, -1.10970402, -1.11141535, ..., -1.11031118,\n",
       "        -1.1139162 , -1.11057133],\n",
       "       ...,\n",
       "       [-0.57248432, -0.58554847, -0.57123251, ..., -0.6020666 ,\n",
       "        -0.5739379 , -0.59156617],\n",
       "       [-0.33566718, -0.32027722, -0.31755627, ..., -0.36110661,\n",
       "        -0.35021564, -0.35172152],\n",
       "       [-0.33624807, -0.35358496, -0.32959965, ..., -0.34578772,\n",
       "        -0.34174117, -0.35884212]])"
      ]
     },
     "execution_count": 10,
     "metadata": {},
     "output_type": "execute_result"
    }
   ],
   "source": [
    "sg.wEmbed"
   ]
  }
 ],
 "metadata": {
  "kernelspec": {
   "display_name": "Python 3 (ipykernel)",
   "language": "python",
   "name": "python3"
  },
  "language_info": {
   "codemirror_mode": {
    "name": "ipython",
    "version": 3
   },
   "file_extension": ".py",
   "mimetype": "text/x-python",
   "name": "python",
   "nbconvert_exporter": "python",
   "pygments_lexer": "ipython3",
   "version": "3.8.2"
  }
 },
 "nbformat": 4,
 "nbformat_minor": 5
}
