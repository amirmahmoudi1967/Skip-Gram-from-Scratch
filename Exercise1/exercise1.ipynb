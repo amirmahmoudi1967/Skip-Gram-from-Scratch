{
 "cells": [
  {
   "cell_type": "markdown",
   "id": "6a3604a2",
   "metadata": {},
   "source": [
    "# Exercise 1\n",
    "**Coded by Chloé Daems, Anne-Claire Laisney and Amir Mahmoudi**"
   ]
  },
  {
   "cell_type": "markdown",
   "id": "715e721b-42dd-402b-8747-c872c26e53d1",
   "metadata": {},
   "source": [
    "The goal of the first exercise is to implement skip-gram with negative-sampling from scratch. The Skip-gram model learns to predict the probability of context words given a target word."
   ]
  },
  {
   "cell_type": "code",
   "execution_count": 1,
   "id": "50a22ede",
   "metadata": {},
   "outputs": [],
   "source": [
    "#Library imports\n",
    "import matplotlib.pyplot as plt\n",
    "from scipy.io import loadmat\n",
    "import scipy.sparse.linalg as sp\n",
    "import numpy as np\n",
    "import pandas as pd"
   ]
  },
  {
   "cell_type": "markdown",
   "id": "40250f5d-de9e-4ccf-9d67-a393cfa6eb4d",
   "metadata": {},
   "source": [
    "Import main python file skipGram.py"
   ]
  },
  {
   "cell_type": "code",
   "execution_count": 2,
   "id": "f40520e3-ba54-4eb9-8e96-cdf9e3234f06",
   "metadata": {},
   "outputs": [],
   "source": [
    "from skipGram import *"
   ]
  },
  {
   "cell_type": "code",
   "execution_count": 3,
   "id": "d4533997-d1d4-4e1e-9333-bae42cdc0aa9",
   "metadata": {},
   "outputs": [],
   "source": [
    "train_df = pd.read_csv('train.csv', sep='\\t')\n",
    "train_df = train_df[1:5000]\n",
    "epochs = 10\n",
    "learningRate = 1e-2"
   ]
  },
  {
   "cell_type": "code",
   "execution_count": 4,
   "id": "a62ac092-49c6-4ded-93e0-c6010522813f",
   "metadata": {},
   "outputs": [],
   "source": [
    "sentences = text2sentences('train.csv')\n",
    "sentences = sentences[1:5000]"
   ]
  },
  {
   "cell_type": "code",
   "execution_count": 5,
   "id": "d28ce596-b055-44c3-9ebe-5c4a7e33a84d",
   "metadata": {},
   "outputs": [],
   "source": [
    "nEmbed = 30\n",
    "winSize = 2\n",
    "minCount = 5\n",
    "negativeRate=5"
   ]
  },
  {
   "cell_type": "code",
   "execution_count": 6,
   "id": "1bd39b43-052b-4512-9398-7866f916d5b6",
   "metadata": {},
   "outputs": [
    {
     "name": "stdout",
     "output_type": "stream",
     "text": [
      "init done\n",
      " > training Epoch 1: Loss = -382.74153095496325\n",
      " > training Epoch 2: Loss = -439.4787444823039\n",
      " > training Epoch 3: Loss = -478.54468334037114\n"
     ]
    }
   ],
   "source": [
    "sg = SkipGram(sentences=sentences, minCount=minCount, nEmbed=nEmbed, winSize=winSize, negativeRate=negativeRate, epochs = epochs, learningRate = learningRate)\n",
    "sg.train()"
   ]
  },
  {
   "cell_type": "code",
   "execution_count": null,
   "id": "7b823522",
   "metadata": {},
   "outputs": [
    {
     "name": "stdout",
     "output_type": "stream",
     "text": [
      "39.449468751772024\n",
      "5.547863180285155\n",
      "7.110750117421666\n"
     ]
    },
    {
     "data": {
      "text/plain": [
       "0.9999999997749024"
      ]
     },
     "execution_count": 7,
     "metadata": {},
     "output_type": "execute_result"
    }
   ],
   "source": [
    "sg.similarity(\"our\",\"the\")"
   ]
  },
  {
   "cell_type": "code",
   "execution_count": null,
   "id": "6917dcd2",
   "metadata": {},
   "outputs": [
    {
     "data": {
      "text/plain": [
       "array([[ 1.01290395,  1.01285211,  1.01287713, ..., -1.01283908,\n",
       "        -1.01285571,  1.01285413],\n",
       "       [ 1.15078895,  1.15071412,  1.15075051, ..., -1.15069632,\n",
       "        -1.15071885,  1.15071804],\n",
       "       [ 1.29824573,  1.29820135,  1.29822287, ..., -1.29819093,\n",
       "        -1.29820401,  1.29820394],\n",
       "       ...,\n",
       "       [ 1.84704329,  1.84695472,  1.84699711, ..., -1.8469333 ,\n",
       "        -1.84695973,  1.8469591 ],\n",
       "       [ 0.92254009,  0.92249048,  0.92251445, ..., -0.92247862,\n",
       "        -0.92249345,  0.92249299],\n",
       "       [ 0.80573993,  0.80571358,  0.80572607, ..., -0.80570691,\n",
       "        -0.80571509,  0.80571464]])"
      ]
     },
     "execution_count": 8,
     "metadata": {},
     "output_type": "execute_result"
    }
   ],
   "source": [
    "sg.wEmbed"
   ]
  }
 ],
 "metadata": {
  "kernelspec": {
   "display_name": "Python 3 (ipykernel)",
   "language": "python",
   "name": "python3"
  },
  "language_info": {
   "codemirror_mode": {
    "name": "ipython",
    "version": 3
   },
   "file_extension": ".py",
   "mimetype": "text/x-python",
   "name": "python",
   "nbconvert_exporter": "python",
   "pygments_lexer": "ipython3",
   "version": "3.8.2"
  }
 },
 "nbformat": 4,
 "nbformat_minor": 5
}
