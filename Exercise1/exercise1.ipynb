{
 "cells": [
  {
   "cell_type": "markdown",
   "id": "6a3604a2",
   "metadata": {},
   "source": [
    "# Exercise 1\n",
    "**Coded by Chloé Daems, Anne-Claire Laisney and Amir Mahmoudi**"
   ]
  },
  {
   "cell_type": "markdown",
   "id": "715e721b-42dd-402b-8747-c872c26e53d1",
   "metadata": {},
   "source": [
    "The goal of the first exercise is to implement skip-gram with negative-sampling from scratch. The Skip-gram model learns to predict the probability of context words given a target word."
   ]
  },
  {
   "cell_type": "code",
   "execution_count": 1,
   "id": "50a22ede",
   "metadata": {},
   "outputs": [],
   "source": [
    "#Library imports\n",
    "import matplotlib.pyplot as plt\n",
    "from scipy.io import loadmat\n",
    "import scipy.sparse.linalg as sp\n",
    "import numpy as np\n",
    "import pandas as pd"
   ]
  },
  {
   "cell_type": "markdown",
   "id": "40250f5d-de9e-4ccf-9d67-a393cfa6eb4d",
   "metadata": {},
   "source": [
    "Import main python file skipGram.py"
   ]
  },
  {
   "cell_type": "code",
   "execution_count": 2,
   "id": "f40520e3-ba54-4eb9-8e96-cdf9e3234f06",
   "metadata": {},
   "outputs": [],
   "source": [
    "from skipGram import *"
   ]
  },
  {
   "cell_type": "code",
   "execution_count": 3,
   "id": "d4533997-d1d4-4e1e-9333-bae42cdc0aa9",
   "metadata": {},
   "outputs": [],
   "source": [
    "train_df = pd.read_csv('train.csv', sep='\\t')\n",
    "train_df = train_df[1:5000]\n",
    "epochs = 15\n",
    "learningRate = 1e-2"
   ]
  },
  {
   "cell_type": "code",
   "execution_count": 4,
   "id": "a62ac092-49c6-4ded-93e0-c6010522813f",
   "metadata": {},
   "outputs": [],
   "source": [
    "sentences = text2sentences('train.csv')\n",
    "sentences = sentences[1:5000]"
   ]
  },
  {
   "cell_type": "code",
   "execution_count": 5,
   "id": "d28ce596-b055-44c3-9ebe-5c4a7e33a84d",
   "metadata": {},
   "outputs": [],
   "source": [
    "nEmbed = 30\n",
    "winSize = 2\n",
    "minCount = 5\n",
    "negativeRate=5"
   ]
  },
  {
   "cell_type": "code",
   "execution_count": 6,
   "id": "1bd39b43-052b-4512-9398-7866f916d5b6",
   "metadata": {},
   "outputs": [
    {
     "name": "stdout",
     "output_type": "stream",
     "text": [
      "init done\n",
      " > training Epoch 1: Loss = [2.63331272 2.63362257 2.6321973  2.63290405 2.63324547 2.63321295\n",
      " 2.63258743 2.63315287 2.6322466  2.63294172 2.63169621 2.63269595\n",
      " 2.63279303 2.63302899 2.63291664 2.63253386 2.63375684 2.63296243\n",
      " 2.63291889 2.63239587 2.63280772 2.63300787 2.6329412  2.6322392\n",
      " 2.6334454  2.63293529 2.63252209 2.63260073 2.6332497  2.63268033]\n",
      " > training Epoch 2: Loss = [2.62174969 2.62187049 2.62186007 2.62167759 2.62184858 2.62191023\n",
      " 2.62164742 2.62160075 2.62177014 2.62170959 2.6217071  2.62184482\n",
      " 2.62181939 2.62179257 2.62199049 2.62179927 2.62190677 2.62175198\n",
      " 2.62178781 2.62171846 2.62178555 2.6218336  2.62194947 2.62153254\n",
      " 2.62184871 2.62174393 2.62176417 2.62178302 2.62190205 2.6216737 ]\n"
     ]
    }
   ],
   "source": [
    "sg = SkipGram(sentences=sentences, minCount=minCount, nEmbed=nEmbed, winSize=winSize, negativeRate=negativeRate, epochs = epochs, learningRate = learningRate)\n",
    "sg.train()"
   ]
  },
  {
   "cell_type": "code",
   "execution_count": null,
   "id": "7b823522",
   "metadata": {},
   "outputs": [
    {
     "name": "stdout",
     "output_type": "stream",
     "text": [
      "60.72800040237212\n",
      "7.756559489112883\n",
      "7.8292444592464285\n"
     ]
    },
    {
     "data": {
      "text/plain": [
       "0.9999999999904454"
      ]
     },
     "execution_count": 7,
     "metadata": {},
     "output_type": "execute_result"
    }
   ],
   "source": [
    "sg.similarity(\"our\",\"the\")"
   ]
  },
  {
   "cell_type": "code",
   "execution_count": null,
   "id": "6917dcd2",
   "metadata": {},
   "outputs": [
    {
     "data": {
      "text/plain": [
       "array([[ 0.03315547,  0.02892948,  0.03188826, ...,  0.02013944,\n",
       "         0.00792247,  0.0103067 ],\n",
       "       [-1.41613983, -1.41609515, -1.41612364, ..., -1.416201  ,\n",
       "        -1.41618832, -1.41609087],\n",
       "       [-1.43199058, -1.43194847, -1.43196961, ..., -1.432049  ,\n",
       "        -1.43203814, -1.43193679],\n",
       "       ...,\n",
       "       [-2.07198267, -2.07206381, -2.07184677, ..., -2.07195086,\n",
       "        -2.07144627, -2.07145505],\n",
       "       [-1.35582348, -1.3556925 , -1.35559849, ..., -1.35587062,\n",
       "        -1.35572016, -1.35565661],\n",
       "       [-0.99882551, -0.9965731 , -0.99635462, ..., -0.99702623,\n",
       "        -0.99600859, -0.99927596]])"
      ]
     },
     "execution_count": 8,
     "metadata": {},
     "output_type": "execute_result"
    }
   ],
   "source": [
    "sg.wEmbed"
   ]
  }
 ],
 "metadata": {
  "kernelspec": {
   "display_name": "Python 3 (ipykernel)",
   "language": "python",
   "name": "python3"
  },
  "language_info": {
   "codemirror_mode": {
    "name": "ipython",
    "version": 3
   },
   "file_extension": ".py",
   "mimetype": "text/x-python",
   "name": "python",
   "nbconvert_exporter": "python",
   "pygments_lexer": "ipython3",
   "version": "3.8.2"
  }
 },
 "nbformat": 4,
 "nbformat_minor": 5
}
