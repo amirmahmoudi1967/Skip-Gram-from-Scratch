{
 "cells": [
  {
   "cell_type": "markdown",
   "id": "6a3604a2",
   "metadata": {},
   "source": [
    "# Exercise 1\n",
    "**Coded by Chloé Daems, Anne-Claire Laisney and Amir Mahmoudi**"
   ]
  },
  {
   "cell_type": "markdown",
   "id": "715e721b-42dd-402b-8747-c872c26e53d1",
   "metadata": {},
   "source": [
    "The goal of the first exercise is to implement skip-gram with negative-sampling from scratch. The Skip-gram model learns to predict the probability of context words given a target word."
   ]
  },
  {
   "cell_type": "code",
   "execution_count": null,
   "id": "50a22ede",
   "metadata": {},
   "outputs": [],
   "source": [
    "#Library imports\n",
    "import matplotlib.pyplot as plt\n",
    "from scipy.io import loadmat\n",
    "import scipy.sparse.linalg as sp\n",
    "import numpy as np\n",
    "import pandas as pd"
   ]
  },
  {
   "cell_type": "markdown",
   "id": "40250f5d-de9e-4ccf-9d67-a393cfa6eb4d",
   "metadata": {},
   "source": [
    "Import main python file skipGram.py"
   ]
  },
  {
   "cell_type": "code",
   "execution_count": null,
   "id": "f40520e3-ba54-4eb9-8e96-cdf9e3234f06",
   "metadata": {},
   "outputs": [],
   "source": [
    "import skipGram"
   ]
  },
  {
   "cell_type": "code",
   "execution_count": null,
   "id": "d4533997-d1d4-4e1e-9333-bae42cdc0aa9",
   "metadata": {},
   "outputs": [],
   "source": [
    "train_df = pd.read_csv('train.tsv', sep='\\t')"
   ]
  },
  {
   "cell_type": "code",
   "execution_count": null,
   "id": "d28ce596-b055-44c3-9ebe-5c4a7e33a84d",
   "metadata": {},
   "outputs": [],
   "source": [
    "skipGram_ = skipGram.SkipGram(\"train.tsv\")"
   ]
  },
  {
   "cell_type": "code",
   "execution_count": null,
   "id": "edbfc1ce-6d8a-42b7-baa5-db58139d8edf",
   "metadata": {},
   "outputs": [],
   "source": []
  }
 ],
 "metadata": {
  "kernelspec": {
   "display_name": "Python 3 (ipykernel)",
   "language": "python",
   "name": "python3"
  },
  "language_info": {
   "codemirror_mode": {
    "name": "ipython",
    "version": 3
   },
   "file_extension": ".py",
   "mimetype": "text/x-python",
   "name": "python",
   "nbconvert_exporter": "python",
   "pygments_lexer": "ipython3",
   "version": "3.9.7"
  }
 },
 "nbformat": 4,
 "nbformat_minor": 5
}
